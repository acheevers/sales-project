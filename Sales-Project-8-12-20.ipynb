{
 "cells": [
  {
   "cell_type": "code",
   "execution_count": null,
   "metadata": {},
   "outputs": [],
   "source": [
    "import pandas as pd\n",
    "import os\n",
    "from datetime import datetime\n",
    "import numpy as np"
   ]
  },
  {
   "cell_type": "code",
   "execution_count": null,
   "metadata": {},
   "outputs": [],
   "source": [
    "df = pd.read_csv('/Users/avacheevers/Desktop/clearcut_categories/SQL_input/Collagen.csv')\n",
    "df['Month'] = pd.to_datetime(df['Month'])\n",
    "category = 'Collagen'"
   ]
  },
  {
   "cell_type": "code",
   "execution_count": null,
   "metadata": {},
   "outputs": [],
   "source": [
    "# finds year of most recent data\n",
    "year = str(df.sort_values('Month', ascending = 0).Month[0])[:4]\n",
    "last_year = str(int(year)-1)"
   ]
  },
  {
   "cell_type": "code",
   "execution_count": null,
   "metadata": {},
   "outputs": [],
   "source": [
    "# finds month of most recent data\n",
    "month = str(df.sort_values('Month', ascending = 0).Month[0])[5:7]"
   ]
  },
  {
   "cell_type": "code",
   "execution_count": null,
   "metadata": {},
   "outputs": [],
   "source": [
    "if month in ['12', '01', '02']:\n",
    "    to_calc = ['Q3Q4', 'Q2Q3', 'Q1Q2', 'Q4Q1']\n",
    "elif month in ['03','04' ,'05']:\n",
    "    to_calc = ['Q4Q1', 'Q3Q4', 'Q2Q3', 'Q1Q2']\n",
    "elif month in ['06','07', '08']:\n",
    "    to_calc = ['Q1Q2', 'Q4Q1', 'Q3Q4', 'Q2Q3']\n",
    "elif month in ['09','10', '11']:\n",
    "    to_calc = ['Q2Q3', 'Q1Q2', 'Q4Q1', 'Q3Q4']"
   ]
  },
  {
   "cell_type": "code",
   "execution_count": null,
   "metadata": {},
   "outputs": [],
   "source": [
    "def find_mask(quarter):\n",
    "    if quarter == 'Q1':\n",
    "        mask = (df['Month'] >= year+'-01-01') & (df['Month'] < year+'-04-01')\n",
    "    if quarter == 'Q2':\n",
    "        mask = (df['Month'] >= year+'-04-01') & (df['Month'] < year+'-07-01')\n",
    "    if quarter == 'Q3':\n",
    "        mask = (df['Month'] >= last_year+'-07-01') & (df['Month'] < last_year+'-09-01')\n",
    "    if quarter == 'Q4':\n",
    "        mask = (df['Month'] >= last_year+'-09-01') & (df['Month'] < year+'-01-01')\n",
    "    return mask\n",
    "\n",
    "def rev_format(rev):\n",
    "    if rev > 10000000:\n",
    "        formatted = str(round(rev/1000000,1))+' MM'\n",
    "    elif rev > 500000: \n",
    "        formatted = str(round(rev/1000000,2))+' MM'\n",
    "    else:\n",
    "        formatted = str(round(rev/1000,1))+' K'\n",
    "        \n",
    "    return formatted"
   ]
  },
  {
   "cell_type": "code",
   "execution_count": null,
   "metadata": {},
   "outputs": [],
   "source": [
    "def calculate_fields(quarters):\n",
    "    a_quarter_name = quarters[:2]\n",
    "    b_quarter_name = quarters[2:]\n",
    "    \n",
    "    a_mask = find_mask(a_quarter_name)\n",
    "    a = df.loc[a_mask]\n",
    "    \n",
    "    b_mask = find_mask(b_quarter_name)\n",
    "    b = df.loc[b_mask]\n",
    "    \n",
    "    a_agg = a.groupby(['tagbrand']).agg({'Revenue': ['sum']})\n",
    "    a_agg.columns = [\"_\".join(x) for x in a_agg.columns.ravel()]\n",
    "    a_agg = a_agg.reset_index()\n",
    "    \n",
    "    b_agg = b.groupby(['tagbrand']).agg({'Revenue': ['sum']})\n",
    "    b_agg.columns = [\"_\".join(x) for x in b_agg.columns.ravel()]\n",
    "    b_agg = b_agg.reset_index()\n",
    "    \n",
    "    ba = b_agg.merge(a_agg, how = 'left', on = ['tagbrand'])\n",
    "    ba.columns = ['tagbrand', 'rev_b', 'rev_a']\n",
    "    \n",
    "    ba.rev_b = round(ba.rev_b, 0)\n",
    "    ba.rev_a = round(ba.rev_a, 0)\n",
    "    \n",
    "    ba['market_share_b_perc'] = round(100*(ba.rev_b / ba.rev_b.sum()),2)\n",
    "    ba['market_share_a_perc'] = round(100*(ba.rev_a / ba.rev_a.sum()),2)\n",
    "    ba['category_growth_perc'] = round(100*((ba.rev_b.sum() - ba.rev_a.sum()) /ba.rev_a.sum()),2)\n",
    "    ba['brand_growth_perc'] = round(100*((ba.rev_b - ba.rev_a)/ba.rev_a),2)\n",
    "    ba['growth_gap'] = ba.brand_growth_perc - ba.category_growth_perc\n",
    "    ba['market_share_perc_change'] = round(100*((ba.market_share_b_perc-ba.market_share_a_perc) / ba.market_share_a_perc),2)\n",
    "\n",
    "    ba = ba.sort_values('market_share_a_perc', ascending = 0)\n",
    "    ba = ba.reset_index()\n",
    "    ba['rank_a'] = (ba.index)+1\n",
    "    \n",
    "    ba = ba.sort_values('market_share_b_perc', ascending = 0)\n",
    "    ba = ba.reset_index()\n",
    "    ba['rank_b'] = (ba.index)+1\n",
    "    \n",
    "    ba['rev_b_formatted'] = ba.rev_b.apply(lambda x: rev_format(x))\n",
    "    ba['rev_a_formatted'] = ba.rev_a.apply(lambda x: rev_format(x))\n",
    "    \n",
    "    ba['market_share_below_val'] = ba.market_share_b_perc.shift(-1)\n",
    "    ba['market_share_below_tagbrand'] = ba.tagbrand.shift(-1)\n",
    "    ba['brand_growth_below_val'] = ba.brand_growth_perc.shift(-1)\n",
    "    \n",
    "    ba['market_share_two_below_val'] = ba.market_share_b_perc.shift(-2)\n",
    "    ba['market_share_two_below_tagbrand'] = ba.tagbrand.shift(-2)\n",
    "    \n",
    "    ba['rev_above_val'] = ba.rev_b_formatted.shift(1).astype(str)\n",
    "    ba['rev_two_above_tagbrand'] = ba.tagbrand.shift(2).astype(str)\n",
    "    ba['rev_three_above_tagbrand'] = ba.tagbrand.shift(3).astype(str)\n",
    "    ba['rev_four_above_tagbrand'] = ba.tagbrand.shift(4).astype(str)\n",
    "    ba['rev_above_tagbrand'] = ba.tagbrand.shift(1)\n",
    "    ba['market_share_above_val'] = ba.market_share_b_perc.shift(1)\n",
    "\n",
    "    \n",
    "    ba['hook_1'] = 'The '+ba.tagbrand+' brand generated $'+ba.rev_b_formatted+' last quarter with '+ba.brand_growth_perc.apply(lambda x: str(x))+'% in-category growth. If the following information was available for all your competitors, would that be helpful or did I miss the mark? '\n",
    "    \n",
    "    ba['hook_2'] = 'In '+b_quarter_name+ ' our analysis shows that '+ba.tagbrand+' market share increased to '+ba.market_share_b_perc.apply(lambda x: str(x))+'% with '+ba.market_share_below_tagbrand+' sitting at '+ba.market_share_below_val.apply(lambda x: str(x))+'%. What if we could help you gain back market-share from a competitor who is encroaching on your brand and help make sure '+ba.market_share_below_tagbrand+' does not catch up?'\n",
    "    \n",
    "    ba['hook_3'] =  'In '+b_quarter_name+ ' our analysis shows that '+ba.tagbrand+' market share increased to '+ba.market_share_b_perc.apply(lambda x: str(x))+'%. The market share of '+ba.market_share_below_tagbrand+' is currently at '+ba.market_share_below_val.apply(lambda x: str(x))+'% with '+ba.market_share_two_below_tagbrand+' trailing behind at '+ba.market_share_two_below_val.apply(lambda x: str(x))+'%. What if we could help you gain back market-share from a competitor who is encroaching on your brand and help make sure '+ba.market_share_below_tagbrand+' does not catch up?' \n",
    "\n",
    "    ba['hook_4'] = 'Last quarter '+ba.rev_above_tagbrand+' generated $'+ ba.rev_above_val.apply(lambda x: str(x))+' in revenue. The '+ba.rev_above_tagbrand+' now has '+(ba.market_share_above_val - ba.market_share_b_perc).apply(lambda x: str(round(x,2)))+' percentage points more market share than '+ba.tagbrand+' . What if you could strategically outmaneuver your competition to gain market share using e-commerce business intelligence your competitors don’t have?'\n",
    "    \n",
    "    ba['hook_5'] = 'You are currently ranked #'+ba.rank_b.apply(lambda x: str(x))+' in '+category+'  by monthly revenue. With our ecomm-focused data and insights, we can help your brand gain the #'+ba.rank_b.apply(lambda x: str(x-1))+' spot from '+ba.rev_above_tagbrand+' by increasing your market share.'\n",
    "    \n",
    "    ba['hook_6'] = 'Are you aware that '+ba.market_share_below_tagbrand.apply(lambda x: str(x))+' captured '+ba.brand_growth_below_val.apply(lambda x: str(x))+'%  category growth in the last quarter narrowing '+ba.tagbrand+'\\'s gap in growth down to '+(ba.brand_growth_perc - ba.brand_growth_below_val).apply(lambda x: str(round(x,2)))+ ' percentage points? Clearcut Analytics makes it easy to garner trends and insights that align with their customers’ actual buying patterns. We help unlock eCommerce market intelligence to track your competitors’ every move and discover emerging category trends.'\n",
    "    \n",
    "    ba['hook_7'] = 'Congrats on grossing '+ba.rev_b_formatted+' and increasing quarterly growth in the '+category+' category to '+ba.brand_growth_perc.apply(lambda x: str(round(x,2)))+'%. However compared to the category overall growth your brand is still behind by '+(ba.category_growth_perc - ba.brand_growth_perc).apply(lambda x: str(round(x,2)))+' percentage points.  How are you planning to take advantage of the recent eCommerce acceleration within VMS while your brick-and-mortar business likely plays catch-up?'\n",
    "    \n",
    "    ba['hook_8'] = 'I noticed '+ba.tagbrand+'  was ranked #'+ba.rank_b.apply(lambda x: str(x))+' in '+category+' last quarter.  If I could provide you with a portal that showcases '+ba.rev_above_tagbrand+', '+ba.rev_two_above_tagbrand+', '+ba.rev_three_above_tagbrand+', and '+ba.rev_four_above_tagbrand+'\\'s e-commerce sales & market share per category, does a quick email exchange make sense to learn about how Clearcut Analytics is helping VMS brands grow with the new online space?'\n",
    "    \n",
    "    ba = ba[['tagbrand',\n",
    "             'hook_1',\n",
    "             'hook_2',\n",
    "             'hook_3',\n",
    "             'hook_4',\n",
    "             'hook_5',\n",
    "             'hook_6',\n",
    "             'hook_7',\n",
    "             'hook_8',\n",
    "            'rev_b',\n",
    "            'rev_a',\n",
    "            'rev_b_formatted',\n",
    "            'rev_a_formatted',\n",
    "            'market_share_b_perc',\n",
    "            'market_share_a_perc',\n",
    "            'category_growth_perc',\n",
    "            'brand_growth_perc',\n",
    "            'growth_gap',\n",
    "            'market_share_perc_change',\n",
    "            'rank_b',\n",
    "            'rank_a']]\n",
    "    ba.columns = ['Brand',\n",
    "                 'Hook 1',\n",
    "                 'Hook 2',\n",
    "                 'Hook 3',\n",
    "                 'Hook 4',\n",
    "                 'Hook 5',\n",
    "                 'Hook 6',\n",
    "                 'Hook 7',\n",
    "                 'Hook 8',\n",
    "                 'Revenue '+b_quarter_name,\n",
    "                 'Revenue '+a_quarter_name,\n",
    "                 'Revenue '+b_quarter_name+' Formatted',\n",
    "                 'Revenue '+a_quarter_name+' Formatted',\n",
    "                 'Market Share (%)'+b_quarter_name,\n",
    "                 'Market Share (%)'+a_quarter_name,\n",
    "                 'Category Growth (%)'+a_quarter_name+b_quarter_name,\n",
    "                 'Brand Growth (%)'+a_quarter_name+b_quarter_name,\n",
    "                 'Brand-Category Growth Gap',\n",
    "                 'Market Share % Change',\n",
    "                 'Rank in'+b_quarter_name,\n",
    "                 'Rank in'+a_quarter_name\n",
    "                 ]\n",
    "    \n",
    "    return ba"
   ]
  },
  {
   "cell_type": "code",
   "execution_count": null,
   "metadata": {},
   "outputs": [],
   "source": [
    "df1 = calculate_fields('Q1Q2')"
   ]
  },
  {
   "cell_type": "code",
   "execution_count": null,
   "metadata": {},
   "outputs": [],
   "source": [
    "df1.to_csv('/Users/avacheevers/Desktop/clearcut_categories/'+category+'_hooks.csv')"
   ]
  },
  {
   "cell_type": "markdown",
   "metadata": {},
   "source": [
    "#### "
   ]
  },
  {
   "cell_type": "code",
   "execution_count": null,
   "metadata": {},
   "outputs": [],
   "source": [
    "df1"
   ]
  },
  {
   "cell_type": "code",
   "execution_count": null,
   "metadata": {},
   "outputs": [],
   "source": []
  }
 ],
 "metadata": {
  "kernelspec": {
   "display_name": "Python 3",
   "language": "python",
   "name": "python3"
  },
  "language_info": {
   "codemirror_mode": {
    "name": "ipython",
    "version": 3
   },
   "file_extension": ".py",
   "mimetype": "text/x-python",
   "name": "python",
   "nbconvert_exporter": "python",
   "pygments_lexer": "ipython3",
   "version": "3.7.6"
  }
 },
 "nbformat": 4,
 "nbformat_minor": 4
}
